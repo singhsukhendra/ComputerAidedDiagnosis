{
  "nbformat": 4,
  "nbformat_minor": 0,
  "metadata": {
    "colab": {
      "name": "QVCNN.ipynb",
      "provenance": [],
      "include_colab_link": true
    },
    "kernelspec": {
      "name": "python3",
      "display_name": "Python 3"
    },
    "accelerator": "GPU"
  },
  "cells": [
    {
      "cell_type": "markdown",
      "metadata": {
        "id": "view-in-github",
        "colab_type": "text"
      },
      "source": [
        "<a href=\"https://colab.research.google.com/github/singhsukhendra/ComputerAidedDiagnosis/blob/master/QVCNN.ipynb\" target=\"_parent\"><img src=\"https://colab.research.google.com/assets/colab-badge.svg\" alt=\"Open In Colab\"/></a>"
      ]
    },
    {
      "cell_type": "code",
      "metadata": {
        "id": "3Wtw4sf1BvOF",
        "colab_type": "code",
        "outputId": "0044ed0a-c8ab-41bf-dfda-c5c9b97743bf",
        "colab": {
          "base_uri": "https://localhost:8080/",
          "height": 105
        }
      },
      "source": [
        "! pip install conv"
      ],
      "execution_count": 1,
      "outputs": [
        {
          "output_type": "stream",
          "text": [
            "Collecting conv\n",
            "  Downloading https://files.pythonhosted.org/packages/53/9c/67604d990498c576047a557f1da12781f161dbd65596dabe130494ecc3ce/conv-0.1-py3-none-any.whl\n",
            "Installing collected packages: conv\n",
            "Successfully installed conv-0.1\n"
          ],
          "name": "stdout"
        }
      ]
    },
    {
      "cell_type": "code",
      "metadata": {
        "id": "EL2-CFjgB9qA",
        "colab_type": "code",
        "outputId": "55a470fa-d954-4f27-ec4a-2ac5cb55fdad",
        "colab": {
          "base_uri": "https://localhost:8080/",
          "height": 292
        }
      },
      "source": [
        "! pip install init"
      ],
      "execution_count": 2,
      "outputs": [
        {
          "output_type": "stream",
          "text": [
            "Collecting init\n",
            "  Downloading https://files.pythonhosted.org/packages/c5/f6/c1fd3cfa476f6b07e5233ee7d3fcef48e0ba8adf70c7cde04a17f58cfb90/init-0.1.0.tar.gz\n",
            "Collecting terminal (from init)\n",
            "  Downloading https://files.pythonhosted.org/packages/1d/33/063e9da9aca3fd67f9e9176483195cba970e320e7dc660018025ef4457de/terminal-0.4.0.tar.gz\n",
            "Requirement already satisfied: PyYaml in /usr/local/lib/python3.6/dist-packages (from init) (3.13)\n",
            "Building wheels for collected packages: init, terminal\n",
            "  Building wheel for init (setup.py) ... \u001b[?25l\u001b[?25hdone\n",
            "  Created wheel for init: filename=init-0.1.0-cp36-none-any.whl size=36341 sha256=0e6f86e0af9531d2610e48f665fd5940c71344a909eda5a4896fcb9fbf269bfc\n",
            "  Stored in directory: /root/.cache/pip/wheels/5f/fa/81/b3fb590dfaec2e0423732bafd7b6992977f25d5c2d96923285\n",
            "  Building wheel for terminal (setup.py) ... \u001b[?25l\u001b[?25hdone\n",
            "  Created wheel for terminal: filename=terminal-0.4.0-cp36-none-any.whl size=13223 sha256=392bb7e847dc23df95dcda26eb2e38e7c4ae1901ec15fc1104b7b593ff2d3b5b\n",
            "  Stored in directory: /root/.cache/pip/wheels/7e/ca/01/f96ebc47ba4074755bd8251b1bacfe688da11496a4b8394224\n",
            "Successfully built init terminal\n",
            "Installing collected packages: terminal, init\n",
            "Successfully installed init-0.1.0 terminal-0.4.0\n"
          ],
          "name": "stdout"
        }
      ]
    },
    {
      "cell_type": "code",
      "metadata": {
        "id": "Qxp-eWGFCDTx",
        "colab_type": "code",
        "outputId": "3a332e20-8b09-4efe-8c9b-12e14226f89f",
        "colab": {
          "base_uri": "https://localhost:8080/",
          "height": 85
        }
      },
      "source": [
        "! git clone https://github.com/XYZ387/QuaternionCNN_Keras.git"
      ],
      "execution_count": 3,
      "outputs": [
        {
          "output_type": "stream",
          "text": [
            "Cloning into 'QuaternionCNN_Keras'...\n",
            "remote: Enumerating objects: 43, done.\u001b[K\n",
            "remote: Total 43 (delta 0), reused 0 (delta 0), pack-reused 43\u001b[K\n",
            "Unpacking objects: 100% (43/43), done.\n"
          ],
          "name": "stdout"
        }
      ]
    },
    {
      "cell_type": "code",
      "metadata": {
        "id": "HCsqOc-2D7J8",
        "colab_type": "code",
        "outputId": "381dd6b7-1e48-42aa-e6db-512e71578d42",
        "colab": {
          "base_uri": "https://localhost:8080/",
          "height": 360
        }
      },
      "source": [
        "!pip install git+https://github.com/keras-team/keras-contrib.git@4d48c687433c53a3495357e99cb059ede74e7f02 -U\n"
      ],
      "execution_count": 4,
      "outputs": [
        {
          "output_type": "stream",
          "text": [
            "Collecting git+https://github.com/keras-team/keras-contrib.git@4d48c687433c53a3495357e99cb059ede74e7f02\n",
            "  Cloning https://github.com/keras-team/keras-contrib.git (to revision 4d48c687433c53a3495357e99cb059ede74e7f02) to /tmp/pip-req-build-hf65quqj\n",
            "  Running command git clone -q https://github.com/keras-team/keras-contrib.git /tmp/pip-req-build-hf65quqj\n",
            "  Running command git checkout -q 4d48c687433c53a3495357e99cb059ede74e7f02\n",
            "Requirement already satisfied, skipping upgrade: keras in /usr/local/lib/python3.6/dist-packages (from keras-contrib==2.0.8) (2.2.5)\n",
            "Requirement already satisfied, skipping upgrade: scipy>=0.14 in /usr/local/lib/python3.6/dist-packages (from keras->keras-contrib==2.0.8) (1.3.1)\n",
            "Requirement already satisfied, skipping upgrade: h5py in /usr/local/lib/python3.6/dist-packages (from keras->keras-contrib==2.0.8) (2.8.0)\n",
            "Requirement already satisfied, skipping upgrade: six>=1.9.0 in /usr/local/lib/python3.6/dist-packages (from keras->keras-contrib==2.0.8) (1.12.0)\n",
            "Requirement already satisfied, skipping upgrade: numpy>=1.9.1 in /usr/local/lib/python3.6/dist-packages (from keras->keras-contrib==2.0.8) (1.16.5)\n",
            "Requirement already satisfied, skipping upgrade: pyyaml in /usr/local/lib/python3.6/dist-packages (from keras->keras-contrib==2.0.8) (3.13)\n",
            "Requirement already satisfied, skipping upgrade: keras-applications>=1.0.8 in /usr/local/lib/python3.6/dist-packages (from keras->keras-contrib==2.0.8) (1.0.8)\n",
            "Requirement already satisfied, skipping upgrade: keras-preprocessing>=1.1.0 in /usr/local/lib/python3.6/dist-packages (from keras->keras-contrib==2.0.8) (1.1.0)\n",
            "Building wheels for collected packages: keras-contrib\n",
            "  Building wheel for keras-contrib (setup.py) ... \u001b[?25l\u001b[?25hdone\n",
            "  Created wheel for keras-contrib: filename=keras_contrib-2.0.8-cp36-none-any.whl size=89962 sha256=e19a6ea4284783f3319f4c802e7e209a503b1c72b92b44fa9ed0e817a0207af4\n",
            "  Stored in directory: /tmp/pip-ephem-wheel-cache-a_41jeff/wheels/28/44/d0/aa60de1ca7db7b131fe93dae9713542b5625f9d94fc814d9ff\n",
            "Successfully built keras-contrib\n",
            "Installing collected packages: keras-contrib\n",
            "Successfully installed keras-contrib-2.0.8\n"
          ],
          "name": "stdout"
        }
      ]
    },
    {
      "cell_type": "code",
      "metadata": {
        "id": "rjpYu5aY3lcT",
        "colab_type": "code",
        "colab": {}
      },
      "source": [
        "%matplotlib inline"
      ],
      "execution_count": 0,
      "outputs": []
    },
    {
      "cell_type": "code",
      "metadata": {
        "id": "Pi-L7hsVCNmz",
        "colab_type": "code",
        "outputId": "2cdc9b6a-36b9-46cf-b671-ae8a9ed905b7",
        "colab": {
          "base_uri": "https://localhost:8080/",
          "height": 1000
        }
      },
      "source": [
        "! python /content/QuaternionCNN_Keras/cifar10_cnn.py"
      ],
      "execution_count": 6,
      "outputs": [
        {
          "output_type": "stream",
          "text": [
            "Using TensorFlow backend.\n",
            "Downloading data from https://www.cs.toronto.edu/~kriz/cifar-10-python.tar.gz\n",
            "170500096/170498071 [==============================] - 6s 0us/step\n",
            "x_train shape: (50000, 32, 32, 3)\n",
            "50000 train samples\n",
            "10000 test samples\n",
            "WARNING:tensorflow:From /usr/local/lib/python3.6/dist-packages/keras/backend/tensorflow_backend.py:66: The name tf.get_default_graph is deprecated. Please use tf.compat.v1.get_default_graph instead.\n",
            "\n",
            "WARNING:tensorflow:From /usr/local/lib/python3.6/dist-packages/keras/backend/tensorflow_backend.py:541: The name tf.placeholder is deprecated. Please use tf.compat.v1.placeholder instead.\n",
            "\n",
            "WARNING:tensorflow:From /usr/local/lib/python3.6/dist-packages/keras/backend/tensorflow_backend.py:4267: The name tf.nn.max_pool is deprecated. Please use tf.nn.max_pool2d instead.\n",
            "\n",
            "WARNING:tensorflow:From /usr/local/lib/python3.6/dist-packages/keras/backend/tensorflow_backend.py:148: The name tf.placeholder_with_default is deprecated. Please use tf.compat.v1.placeholder_with_default instead.\n",
            "\n",
            "WARNING:tensorflow:From /usr/local/lib/python3.6/dist-packages/keras/backend/tensorflow_backend.py:3733: calling dropout (from tensorflow.python.ops.nn_ops) with keep_prob is deprecated and will be removed in a future version.\n",
            "Instructions for updating:\n",
            "Please use `rate` instead of `keep_prob`. Rate should be set to `rate = 1 - keep_prob`.\n",
            "WARNING:tensorflow:From /usr/local/lib/python3.6/dist-packages/keras/backend/tensorflow_backend.py:4432: The name tf.random_uniform is deprecated. Please use tf.random.uniform instead.\n",
            "\n",
            "WARNING:tensorflow:From /usr/local/lib/python3.6/dist-packages/keras/optimizers.py:793: The name tf.train.Optimizer is deprecated. Please use tf.compat.v1.train.Optimizer instead.\n",
            "\n",
            "WARNING:tensorflow:From /usr/local/lib/python3.6/dist-packages/keras/backend/tensorflow_backend.py:3576: The name tf.log is deprecated. Please use tf.math.log instead.\n",
            "\n",
            "Using real-time data augmentation.\n",
            "WARNING:tensorflow:From /usr/local/lib/python3.6/dist-packages/tensorflow_core/python/ops/math_grad.py:1424: where (from tensorflow.python.ops.array_ops) is deprecated and will be removed in a future version.\n",
            "Instructions for updating:\n",
            "Use tf.where in 2.0, which has the same broadcast rule as np.where\n",
            "WARNING:tensorflow:From /usr/local/lib/python3.6/dist-packages/keras/backend/tensorflow_backend.py:1033: The name tf.assign_add is deprecated. Please use tf.compat.v1.assign_add instead.\n",
            "\n",
            "WARNING:tensorflow:From /usr/local/lib/python3.6/dist-packages/keras/backend/tensorflow_backend.py:1020: The name tf.assign is deprecated. Please use tf.compat.v1.assign instead.\n",
            "\n",
            "WARNING:tensorflow:From /usr/local/lib/python3.6/dist-packages/keras/backend/tensorflow_backend.py:3005: The name tf.Session is deprecated. Please use tf.compat.v1.Session instead.\n",
            "\n",
            "WARNING:tensorflow:From /usr/local/lib/python3.6/dist-packages/keras/backend/tensorflow_backend.py:190: The name tf.get_default_session is deprecated. Please use tf.compat.v1.get_default_session instead.\n",
            "\n",
            "WARNING:tensorflow:From /usr/local/lib/python3.6/dist-packages/keras/backend/tensorflow_backend.py:197: The name tf.ConfigProto is deprecated. Please use tf.compat.v1.ConfigProto instead.\n",
            "\n",
            "2019-10-11 03:31:31.520665: I tensorflow/core/platform/profile_utils/cpu_utils.cc:94] CPU Frequency: 2300000000 Hz\n",
            "2019-10-11 03:31:31.521078: I tensorflow/compiler/xla/service/service.cc:168] XLA service 0x2d1d100 initialized for platform Host (this does not guarantee that XLA will be used). Devices:\n",
            "2019-10-11 03:31:31.521130: I tensorflow/compiler/xla/service/service.cc:176]   StreamExecutor device (0): Host, Default Version\n",
            "2019-10-11 03:31:31.526338: I tensorflow/stream_executor/platform/default/dso_loader.cc:44] Successfully opened dynamic library libcuda.so.1\n",
            "2019-10-11 03:31:31.672323: I tensorflow/stream_executor/cuda/cuda_gpu_executor.cc:983] successful NUMA node read from SysFS had negative value (-1), but there must be at least one NUMA node, so returning NUMA node zero\n",
            "2019-10-11 03:31:31.673218: I tensorflow/compiler/xla/service/service.cc:168] XLA service 0x2d1d2c0 initialized for platform CUDA (this does not guarantee that XLA will be used). Devices:\n",
            "2019-10-11 03:31:31.673251: I tensorflow/compiler/xla/service/service.cc:176]   StreamExecutor device (0): Tesla K80, Compute Capability 3.7\n",
            "2019-10-11 03:31:31.674595: I tensorflow/stream_executor/cuda/cuda_gpu_executor.cc:983] successful NUMA node read from SysFS had negative value (-1), but there must be at least one NUMA node, so returning NUMA node zero\n",
            "2019-10-11 03:31:31.675289: I tensorflow/core/common_runtime/gpu/gpu_device.cc:1618] Found device 0 with properties: \n",
            "name: Tesla K80 major: 3 minor: 7 memoryClockRate(GHz): 0.8235\n",
            "pciBusID: 0000:00:04.0\n",
            "2019-10-11 03:31:31.689295: I tensorflow/stream_executor/platform/default/dso_loader.cc:44] Successfully opened dynamic library libcudart.so.10.0\n",
            "2019-10-11 03:31:31.887390: I tensorflow/stream_executor/platform/default/dso_loader.cc:44] Successfully opened dynamic library libcublas.so.10.0\n",
            "2019-10-11 03:31:31.973565: I tensorflow/stream_executor/platform/default/dso_loader.cc:44] Successfully opened dynamic library libcufft.so.10.0\n",
            "2019-10-11 03:31:32.008764: I tensorflow/stream_executor/platform/default/dso_loader.cc:44] Successfully opened dynamic library libcurand.so.10.0\n",
            "2019-10-11 03:31:32.293947: I tensorflow/stream_executor/platform/default/dso_loader.cc:44] Successfully opened dynamic library libcusolver.so.10.0\n",
            "2019-10-11 03:31:32.443040: I tensorflow/stream_executor/platform/default/dso_loader.cc:44] Successfully opened dynamic library libcusparse.so.10.0\n",
            "2019-10-11 03:31:32.878295: I tensorflow/stream_executor/platform/default/dso_loader.cc:44] Successfully opened dynamic library libcudnn.so.7\n",
            "2019-10-11 03:31:32.878604: I tensorflow/stream_executor/cuda/cuda_gpu_executor.cc:983] successful NUMA node read from SysFS had negative value (-1), but there must be at least one NUMA node, so returning NUMA node zero\n",
            "2019-10-11 03:31:32.879511: I tensorflow/stream_executor/cuda/cuda_gpu_executor.cc:983] successful NUMA node read from SysFS had negative value (-1), but there must be at least one NUMA node, so returning NUMA node zero\n",
            "2019-10-11 03:31:32.880186: I tensorflow/core/common_runtime/gpu/gpu_device.cc:1746] Adding visible gpu devices: 0\n",
            "2019-10-11 03:31:32.887700: I tensorflow/stream_executor/platform/default/dso_loader.cc:44] Successfully opened dynamic library libcudart.so.10.0\n",
            "2019-10-11 03:31:32.889378: I tensorflow/core/common_runtime/gpu/gpu_device.cc:1159] Device interconnect StreamExecutor with strength 1 edge matrix:\n",
            "2019-10-11 03:31:32.889417: I tensorflow/core/common_runtime/gpu/gpu_device.cc:1165]      0 \n",
            "2019-10-11 03:31:32.889432: I tensorflow/core/common_runtime/gpu/gpu_device.cc:1178] 0:   N \n",
            "2019-10-11 03:31:32.891058: I tensorflow/stream_executor/cuda/cuda_gpu_executor.cc:983] successful NUMA node read from SysFS had negative value (-1), but there must be at least one NUMA node, so returning NUMA node zero\n",
            "2019-10-11 03:31:32.891844: I tensorflow/stream_executor/cuda/cuda_gpu_executor.cc:983] successful NUMA node read from SysFS had negative value (-1), but there must be at least one NUMA node, so returning NUMA node zero\n",
            "2019-10-11 03:31:32.892584: W tensorflow/core/common_runtime/gpu/gpu_bfc_allocator.cc:39] Overriding allow_growth setting because the TF_FORCE_GPU_ALLOW_GROWTH environment variable is set. Original config value was 0.\n",
            "2019-10-11 03:31:32.892640: I tensorflow/core/common_runtime/gpu/gpu_device.cc:1304] Created TensorFlow device (/job:localhost/replica:0/task:0/device:GPU:0 with 10805 MB memory) -> physical GPU (device: 0, name: Tesla K80, pci bus id: 0000:00:04.0, compute capability: 3.7)\n",
            "WARNING:tensorflow:From /usr/local/lib/python3.6/dist-packages/keras/backend/tensorflow_backend.py:207: The name tf.global_variables is deprecated. Please use tf.compat.v1.global_variables instead.\n",
            "\n",
            "WARNING:tensorflow:From /usr/local/lib/python3.6/dist-packages/keras/backend/tensorflow_backend.py:216: The name tf.is_variable_initialized is deprecated. Please use tf.compat.v1.is_variable_initialized instead.\n",
            "\n",
            "WARNING:tensorflow:From /usr/local/lib/python3.6/dist-packages/keras/backend/tensorflow_backend.py:223: The name tf.variables_initializer is deprecated. Please use tf.compat.v1.variables_initializer instead.\n",
            "\n",
            "WARNING:tensorflow:From /usr/local/lib/python3.6/dist-packages/keras/callbacks.py:1122: The name tf.summary.merge_all is deprecated. Please use tf.compat.v1.summary.merge_all instead.\n",
            "\n",
            "WARNING:tensorflow:From /usr/local/lib/python3.6/dist-packages/keras/callbacks.py:1125: The name tf.summary.FileWriter is deprecated. Please use tf.compat.v1.summary.FileWriter instead.\n",
            "\n",
            "Epoch 1/100\n",
            "2019-10-11 03:31:37.072014: I tensorflow/stream_executor/platform/default/dso_loader.cc:44] Successfully opened dynamic library libcublas.so.10.0\n",
            "2019-10-11 03:31:37.760436: I tensorflow/stream_executor/platform/default/dso_loader.cc:44] Successfully opened dynamic library libcudnn.so.7\n",
            "1563/1563 [==============================] - 86s 55ms/step - loss: 1.8110 - acc: 0.3386 - val_loss: 1.5108 - val_acc: 0.4664\n",
            "WARNING:tensorflow:From /usr/local/lib/python3.6/dist-packages/keras/callbacks.py:1265: The name tf.Summary is deprecated. Please use tf.compat.v1.Summary instead.\n",
            "\n",
            "Epoch 2/100\n",
            "1563/1563 [==============================] - 81s 52ms/step - loss: 1.5058 - acc: 0.4539 - val_loss: 1.3661 - val_acc: 0.5034\n",
            "Epoch 3/100\n",
            "1563/1563 [==============================] - 81s 52ms/step - loss: 1.3804 - acc: 0.5031 - val_loss: 1.1988 - val_acc: 0.5754\n",
            "Epoch 4/100\n",
            "1563/1563 [==============================] - 81s 52ms/step - loss: 1.2847 - acc: 0.5414 - val_loss: 1.0902 - val_acc: 0.6126\n",
            "Epoch 5/100\n",
            "1563/1563 [==============================] - 81s 52ms/step - loss: 1.2054 - acc: 0.5726 - val_loss: 1.0203 - val_acc: 0.6395\n",
            "Epoch 6/100\n",
            "1563/1563 [==============================] - 81s 52ms/step - loss: 1.1404 - acc: 0.5959 - val_loss: 0.9976 - val_acc: 0.6468\n",
            "Epoch 7/100\n",
            "1563/1563 [==============================] - 81s 52ms/step - loss: 1.0882 - acc: 0.6160 - val_loss: 0.9513 - val_acc: 0.6684\n",
            "Epoch 8/100\n",
            "1563/1563 [==============================] - 81s 52ms/step - loss: 1.0441 - acc: 0.6322 - val_loss: 0.9708 - val_acc: 0.6640\n",
            "Epoch 9/100\n",
            "1563/1563 [==============================] - 81s 52ms/step - loss: 1.0075 - acc: 0.6455 - val_loss: 0.9590 - val_acc: 0.6632\n",
            "Epoch 10/100\n",
            "1563/1563 [==============================] - 81s 52ms/step - loss: 0.9759 - acc: 0.6568 - val_loss: 0.8408 - val_acc: 0.7075\n",
            "Epoch 11/100\n",
            "1563/1563 [==============================] - 81s 52ms/step - loss: 0.9468 - acc: 0.6691 - val_loss: 0.8830 - val_acc: 0.6945\n",
            "Epoch 12/100\n",
            "1563/1563 [==============================] - 81s 52ms/step - loss: 0.9157 - acc: 0.6805 - val_loss: 0.8086 - val_acc: 0.7196\n",
            "Epoch 13/100\n",
            "1563/1563 [==============================] - 81s 52ms/step - loss: 0.8908 - acc: 0.6892 - val_loss: 0.8565 - val_acc: 0.7045\n",
            "Epoch 14/100\n",
            "1563/1563 [==============================] - 81s 52ms/step - loss: 0.8720 - acc: 0.6975 - val_loss: 0.8005 - val_acc: 0.7197\n",
            "Epoch 15/100\n",
            "1563/1563 [==============================] - 81s 52ms/step - loss: 0.8530 - acc: 0.7018 - val_loss: 0.7377 - val_acc: 0.7438\n",
            "Epoch 16/100\n",
            "1563/1563 [==============================] - 81s 52ms/step - loss: 0.8387 - acc: 0.7104 - val_loss: 0.7945 - val_acc: 0.7305\n",
            "Epoch 17/100\n",
            "1563/1563 [==============================] - 81s 52ms/step - loss: 0.8240 - acc: 0.7134 - val_loss: 0.7174 - val_acc: 0.7510\n",
            "Epoch 18/100\n",
            "1563/1563 [==============================] - 81s 52ms/step - loss: 0.8108 - acc: 0.7194 - val_loss: 0.6977 - val_acc: 0.7581\n",
            "Epoch 19/100\n",
            "1563/1563 [==============================] - 81s 52ms/step - loss: 0.8017 - acc: 0.7202 - val_loss: 0.7004 - val_acc: 0.7591\n",
            "Epoch 20/100\n",
            "1563/1563 [==============================] - 81s 52ms/step - loss: 0.7874 - acc: 0.7247 - val_loss: 0.6760 - val_acc: 0.7666\n",
            "Epoch 21/100\n",
            "1563/1563 [==============================] - 82s 52ms/step - loss: 0.7784 - acc: 0.7310 - val_loss: 0.6856 - val_acc: 0.7681\n",
            "Epoch 22/100\n",
            "1563/1563 [==============================] - 81s 52ms/step - loss: 0.7726 - acc: 0.7321 - val_loss: 0.6834 - val_acc: 0.7654\n",
            "Epoch 23/100\n",
            "1563/1563 [==============================] - 81s 52ms/step - loss: 0.7622 - acc: 0.7381 - val_loss: 0.6818 - val_acc: 0.7654\n",
            "Epoch 24/100\n",
            "1563/1563 [==============================] - 81s 52ms/step - loss: 0.7535 - acc: 0.7412 - val_loss: 0.6713 - val_acc: 0.7700\n",
            "Epoch 25/100\n",
            "1563/1563 [==============================] - 81s 52ms/step - loss: 0.7527 - acc: 0.7403 - val_loss: 0.7007 - val_acc: 0.7618\n",
            "Epoch 26/100\n",
            "1563/1563 [==============================] - 82s 52ms/step - loss: 0.7437 - acc: 0.7436 - val_loss: 0.6980 - val_acc: 0.7659\n",
            "Epoch 27/100\n",
            "1563/1563 [==============================] - 82s 52ms/step - loss: 0.7406 - acc: 0.7449 - val_loss: 0.6316 - val_acc: 0.7862\n",
            "Epoch 28/100\n",
            "1563/1563 [==============================] - 81s 52ms/step - loss: 0.7325 - acc: 0.7485 - val_loss: 0.6428 - val_acc: 0.7822\n",
            "Epoch 29/100\n",
            "1563/1563 [==============================] - 81s 52ms/step - loss: 0.7265 - acc: 0.7524 - val_loss: 0.6298 - val_acc: 0.7878\n",
            "Epoch 30/100\n",
            "1563/1563 [==============================] - 81s 52ms/step - loss: 0.7210 - acc: 0.7523 - val_loss: 0.6540 - val_acc: 0.7840\n",
            "Epoch 31/100\n",
            "1563/1563 [==============================] - 82s 52ms/step - loss: 0.7157 - acc: 0.7554 - val_loss: 0.6416 - val_acc: 0.7870\n",
            "Epoch 32/100\n",
            "1563/1563 [==============================] - 82s 52ms/step - loss: 0.7165 - acc: 0.7561 - val_loss: 0.6669 - val_acc: 0.7821\n",
            "Epoch 33/100\n",
            "1563/1563 [==============================] - 82s 52ms/step - loss: 0.7136 - acc: 0.7556 - val_loss: 0.6653 - val_acc: 0.7824\n",
            "Epoch 34/100\n",
            "1563/1563 [==============================] - 82s 52ms/step - loss: 0.7074 - acc: 0.7603 - val_loss: 0.6772 - val_acc: 0.7723\n",
            "Epoch 35/100\n",
            "1563/1563 [==============================] - 81s 52ms/step - loss: 0.6994 - acc: 0.7616 - val_loss: 0.6028 - val_acc: 0.8006\n",
            "Epoch 36/100\n",
            "1563/1563 [==============================] - 81s 52ms/step - loss: 0.7080 - acc: 0.7602 - val_loss: 0.6851 - val_acc: 0.7883\n",
            "Epoch 37/100\n",
            "1563/1563 [==============================] - 82s 52ms/step - loss: 0.6983 - acc: 0.7611 - val_loss: 0.6313 - val_acc: 0.7849\n",
            "Epoch 38/100\n",
            "1563/1563 [==============================] - 81s 52ms/step - loss: 0.6952 - acc: 0.7655 - val_loss: 0.6039 - val_acc: 0.7967\n",
            "Epoch 39/100\n",
            "1563/1563 [==============================] - 81s 52ms/step - loss: 0.6895 - acc: 0.7667 - val_loss: 0.6370 - val_acc: 0.7904\n",
            "Epoch 40/100\n",
            "1563/1563 [==============================] - 82s 52ms/step - loss: 0.6902 - acc: 0.7679 - val_loss: 0.6547 - val_acc: 0.7894\n",
            "Epoch 41/100\n",
            "1563/1563 [==============================] - 82s 52ms/step - loss: 0.6873 - acc: 0.7677 - val_loss: 0.5889 - val_acc: 0.8075\n",
            "Epoch 42/100\n",
            "1563/1563 [==============================] - 81s 52ms/step - loss: 0.6876 - acc: 0.7686 - val_loss: 0.6141 - val_acc: 0.7951\n",
            "Epoch 43/100\n",
            "1563/1563 [==============================] - 82s 52ms/step - loss: 0.6897 - acc: 0.7675 - val_loss: 0.6432 - val_acc: 0.7927\n",
            "Epoch 44/100\n",
            "1563/1563 [==============================] - 82s 52ms/step - loss: 0.6904 - acc: 0.7663 - val_loss: 0.6185 - val_acc: 0.7958\n",
            "Epoch 45/100\n",
            "1563/1563 [==============================] - 81s 52ms/step - loss: 0.6790 - acc: 0.7714 - val_loss: 0.5828 - val_acc: 0.8037\n",
            "Epoch 46/100\n",
            "1563/1563 [==============================] - 81s 52ms/step - loss: 0.6792 - acc: 0.7717 - val_loss: 0.7969 - val_acc: 0.7478\n",
            "Epoch 47/100\n",
            "1563/1563 [==============================] - 82s 52ms/step - loss: 0.6787 - acc: 0.7710 - val_loss: 0.5957 - val_acc: 0.8060\n",
            "Epoch 48/100\n",
            "1563/1563 [==============================] - 81s 52ms/step - loss: 0.6824 - acc: 0.7685 - val_loss: 0.6132 - val_acc: 0.7981\n",
            "Epoch 49/100\n",
            "1563/1563 [==============================] - 82s 52ms/step - loss: 0.6720 - acc: 0.7731 - val_loss: 0.6364 - val_acc: 0.7948\n",
            "Epoch 50/100\n",
            "1563/1563 [==============================] - 81s 52ms/step - loss: 0.6798 - acc: 0.7718 - val_loss: 0.6375 - val_acc: 0.7952\n",
            "Epoch 51/100\n",
            "1563/1563 [==============================] - 82s 52ms/step - loss: 0.6746 - acc: 0.7721 - val_loss: 0.6251 - val_acc: 0.7927\n",
            "Epoch 52/100\n",
            "1563/1563 [==============================] - 82s 52ms/step - loss: 0.6732 - acc: 0.7731 - val_loss: 0.5933 - val_acc: 0.8077\n",
            "Epoch 53/100\n",
            "1563/1563 [==============================] - 81s 52ms/step - loss: 0.6746 - acc: 0.7733 - val_loss: 0.5609 - val_acc: 0.8151\n",
            "Epoch 54/100\n",
            "1563/1563 [==============================] - 81s 52ms/step - loss: 0.6698 - acc: 0.7744 - val_loss: 0.6026 - val_acc: 0.7991\n",
            "Epoch 55/100\n",
            "1563/1563 [==============================] - 81s 52ms/step - loss: 0.6719 - acc: 0.7728 - val_loss: 0.6104 - val_acc: 0.8041\n",
            "Epoch 56/100\n",
            "1563/1563 [==============================] - 81s 52ms/step - loss: 0.6673 - acc: 0.7729 - val_loss: 0.6115 - val_acc: 0.7958\n",
            "Epoch 57/100\n",
            "1563/1563 [==============================] - 81s 52ms/step - loss: 0.6702 - acc: 0.7754 - val_loss: 0.6129 - val_acc: 0.7951\n",
            "Epoch 58/100\n",
            "1563/1563 [==============================] - 82s 52ms/step - loss: 0.6731 - acc: 0.7758 - val_loss: 0.7080 - val_acc: 0.7749\n",
            "Epoch 59/100\n",
            "1563/1563 [==============================] - 81s 52ms/step - loss: 0.6690 - acc: 0.7750 - val_loss: 0.6221 - val_acc: 0.7958\n",
            "Epoch 60/100\n",
            "1563/1563 [==============================] - 81s 52ms/step - loss: 0.6722 - acc: 0.7733 - val_loss: 0.5989 - val_acc: 0.8004\n",
            "Epoch 61/100\n",
            "1563/1563 [==============================] - 81s 52ms/step - loss: 0.6641 - acc: 0.7755 - val_loss: 0.6456 - val_acc: 0.7904\n",
            "Epoch 62/100\n",
            "1563/1563 [==============================] - 81s 52ms/step - loss: 0.6654 - acc: 0.7770 - val_loss: 0.6157 - val_acc: 0.7992\n",
            "Epoch 63/100\n",
            "1563/1563 [==============================] - 82s 52ms/step - loss: 0.6695 - acc: 0.7746 - val_loss: 0.5730 - val_acc: 0.8110\n",
            "Epoch 64/100\n",
            "1563/1563 [==============================] - 81s 52ms/step - loss: 0.6658 - acc: 0.7767 - val_loss: 0.5850 - val_acc: 0.8114\n",
            "Epoch 65/100\n",
            "1563/1563 [==============================] - 81s 52ms/step - loss: 0.6700 - acc: 0.7726 - val_loss: 0.5830 - val_acc: 0.8086\n",
            "Epoch 66/100\n",
            "1563/1563 [==============================] - 81s 52ms/step - loss: 0.6699 - acc: 0.7755 - val_loss: 0.5968 - val_acc: 0.8029\n",
            "Epoch 67/100\n",
            "1563/1563 [==============================] - 81s 52ms/step - loss: 0.6678 - acc: 0.7765 - val_loss: 0.6586 - val_acc: 0.7874\n",
            "Epoch 68/100\n",
            "1563/1563 [==============================] - 81s 52ms/step - loss: 0.6652 - acc: 0.7762 - val_loss: 0.5990 - val_acc: 0.8098\n",
            "Epoch 69/100\n",
            "1563/1563 [==============================] - 81s 52ms/step - loss: 0.6728 - acc: 0.7736 - val_loss: 0.6347 - val_acc: 0.7995\n",
            "Epoch 70/100\n",
            "1563/1563 [==============================] - 81s 52ms/step - loss: 0.6719 - acc: 0.7762 - val_loss: 0.6449 - val_acc: 0.7941\n",
            "Epoch 71/100\n",
            "1563/1563 [==============================] - 81s 52ms/step - loss: 0.6685 - acc: 0.7755 - val_loss: 0.5832 - val_acc: 0.8139\n",
            "Epoch 72/100\n",
            "1563/1563 [==============================] - 81s 52ms/step - loss: 0.6685 - acc: 0.7754 - val_loss: 0.6292 - val_acc: 0.8002\n",
            "Epoch 73/100\n",
            "1563/1563 [==============================] - 81s 52ms/step - loss: 0.6685 - acc: 0.7766 - val_loss: 0.7070 - val_acc: 0.7693\n",
            "Epoch 74/100\n",
            "1563/1563 [==============================] - 82s 52ms/step - loss: 0.6735 - acc: 0.7746 - val_loss: 0.5800 - val_acc: 0.8115\n",
            "Epoch 75/100\n",
            "1563/1563 [==============================] - 82s 52ms/step - loss: 0.6703 - acc: 0.7745 - val_loss: 0.6866 - val_acc: 0.7789\n",
            "Epoch 76/100\n",
            "1563/1563 [==============================] - 81s 52ms/step - loss: 0.6686 - acc: 0.7755 - val_loss: 0.6100 - val_acc: 0.7980\n",
            "Epoch 77/100\n",
            "1563/1563 [==============================] - 81s 52ms/step - loss: 0.6662 - acc: 0.7770 - val_loss: 0.6077 - val_acc: 0.8076\n",
            "Epoch 78/100\n",
            "1563/1563 [==============================] - 81s 52ms/step - loss: 0.6696 - acc: 0.7776 - val_loss: 0.6318 - val_acc: 0.7999\n",
            "Epoch 79/100\n",
            "1563/1563 [==============================] - 81s 52ms/step - loss: 0.6673 - acc: 0.7775 - val_loss: 0.5928 - val_acc: 0.8078\n",
            "Epoch 80/100\n",
            "1563/1563 [==============================] - 81s 52ms/step - loss: 0.6651 - acc: 0.7767 - val_loss: 0.5975 - val_acc: 0.8077\n",
            "Epoch 81/100\n",
            "1563/1563 [==============================] - 81s 52ms/step - loss: 0.6684 - acc: 0.7774 - val_loss: 0.6567 - val_acc: 0.7877\n",
            "Epoch 82/100\n",
            "1563/1563 [==============================] - 81s 52ms/step - loss: 0.6648 - acc: 0.7784 - val_loss: 0.6123 - val_acc: 0.7968\n",
            "Epoch 83/100\n",
            "1563/1563 [==============================] - 81s 52ms/step - loss: 0.6682 - acc: 0.7758 - val_loss: 0.6651 - val_acc: 0.7889\n",
            "Epoch 84/100\n",
            "1563/1563 [==============================] - 80s 51ms/step - loss: 0.6670 - acc: 0.7778 - val_loss: 0.6762 - val_acc: 0.7746\n",
            "Epoch 85/100\n",
            "1563/1563 [==============================] - 81s 52ms/step - loss: 0.6686 - acc: 0.7768 - val_loss: 0.6588 - val_acc: 0.7857\n",
            "Epoch 86/100\n",
            "1563/1563 [==============================] - 85s 54ms/step - loss: 0.6663 - acc: 0.7775 - val_loss: 0.7135 - val_acc: 0.7727\n",
            "Epoch 87/100\n",
            "1563/1563 [==============================] - 82s 52ms/step - loss: 0.6712 - acc: 0.7778 - val_loss: 0.5713 - val_acc: 0.8180\n",
            "Epoch 88/100\n",
            "1563/1563 [==============================] - 82s 52ms/step - loss: 0.6688 - acc: 0.7778 - val_loss: 0.6748 - val_acc: 0.7881\n",
            "Epoch 89/100\n",
            "1563/1563 [==============================] - 81s 52ms/step - loss: 0.6748 - acc: 0.7733 - val_loss: 0.6316 - val_acc: 0.7944\n",
            "Epoch 90/100\n",
            "1563/1563 [==============================] - 82s 52ms/step - loss: 0.6680 - acc: 0.7770 - val_loss: 0.6899 - val_acc: 0.7757\n",
            "Epoch 91/100\n",
            "1563/1563 [==============================] - 81s 52ms/step - loss: 0.6789 - acc: 0.7746 - val_loss: 0.7070 - val_acc: 0.7731\n",
            "Epoch 92/100\n",
            "1563/1563 [==============================] - 81s 52ms/step - loss: 0.6753 - acc: 0.7735 - val_loss: 0.6777 - val_acc: 0.7873\n",
            "Epoch 93/100\n",
            "1563/1563 [==============================] - 81s 52ms/step - loss: 0.6711 - acc: 0.7781 - val_loss: 0.6521 - val_acc: 0.7868\n",
            "Epoch 94/100\n",
            "1563/1563 [==============================] - 81s 52ms/step - loss: 0.6717 - acc: 0.7761 - val_loss: 0.6683 - val_acc: 0.7995\n",
            "Epoch 95/100\n",
            "1563/1563 [==============================] - 81s 52ms/step - loss: 0.6706 - acc: 0.7759 - val_loss: 0.6727 - val_acc: 0.7844\n",
            "Epoch 96/100\n",
            "1563/1563 [==============================] - 81s 52ms/step - loss: 0.6785 - acc: 0.7757 - val_loss: 0.6282 - val_acc: 0.7994\n",
            "Epoch 97/100\n",
            "1563/1563 [==============================] - 82s 52ms/step - loss: 0.6740 - acc: 0.7770 - val_loss: 0.6052 - val_acc: 0.8085\n",
            "Epoch 98/100\n",
            "1563/1563 [==============================] - 81s 52ms/step - loss: 0.6736 - acc: 0.7774 - val_loss: 0.6605 - val_acc: 0.7831\n",
            "Epoch 99/100\n",
            "1563/1563 [==============================] - 82s 52ms/step - loss: 0.6757 - acc: 0.7761 - val_loss: 0.6188 - val_acc: 0.8033\n",
            "Epoch 100/100\n",
            "1563/1563 [==============================] - 81s 52ms/step - loss: 0.6739 - acc: 0.7783 - val_loss: 0.6788 - val_acc: 0.7793\n",
            "Saved trained model at /content/saved_models/keras_cifar10_trained_model_Q.h5 \n",
            "10000/10000 [==============================] - 4s 409us/step\n",
            "Test loss: 0.6788313488483428\n",
            "Test accuracy: 0.7793\n",
            "Model: \"sequential_1\"\n",
            "_________________________________________________________________\n",
            "Layer (type)                 Output Shape              Param #   \n",
            "=================================================================\n",
            "q_conv2d_1 (QConv2D)         (None, 32, 32, 96)        672       \n",
            "_________________________________________________________________\n",
            "activation_1 (Activation)    (None, 32, 32, 96)        0         \n",
            "_________________________________________________________________\n",
            "q_conv2d_2 (QConv2D)         (None, 30, 30, 96)        18528     \n",
            "_________________________________________________________________\n",
            "activation_2 (Activation)    (None, 30, 30, 96)        0         \n",
            "_________________________________________________________________\n",
            "max_pooling2d_1 (MaxPooling2 (None, 15, 15, 96)        0         \n",
            "_________________________________________________________________\n",
            "dropout_1 (Dropout)          (None, 15, 15, 96)        0         \n",
            "_________________________________________________________________\n",
            "q_conv2d_3 (QConv2D)         (None, 15, 15, 192)       37056     \n",
            "_________________________________________________________________\n",
            "activation_3 (Activation)    (None, 15, 15, 192)       0         \n",
            "_________________________________________________________________\n",
            "q_conv2d_4 (QConv2D)         (None, 13, 13, 192)       73920     \n",
            "_________________________________________________________________\n",
            "activation_4 (Activation)    (None, 13, 13, 192)       0         \n",
            "_________________________________________________________________\n",
            "max_pooling2d_2 (MaxPooling2 (None, 6, 6, 192)         0         \n",
            "_________________________________________________________________\n",
            "dropout_2 (Dropout)          (None, 6, 6, 192)         0         \n",
            "_________________________________________________________________\n",
            "flatten_1 (Flatten)          (None, 6912)              0         \n",
            "_________________________________________________________________\n",
            "q_dense_1 (QDense)           (None, 1536)              2360832   \n",
            "_________________________________________________________________\n",
            "activation_5 (Activation)    (None, 1536)              0         \n",
            "_________________________________________________________________\n",
            "dropout_3 (Dropout)          (None, 1536)              0         \n",
            "_________________________________________________________________\n",
            "dense_1 (Dense)              (None, 10)                15370     \n",
            "_________________________________________________________________\n",
            "activation_6 (Activation)    (None, 10)                0         \n",
            "=================================================================\n",
            "Total params: 2,506,378\n",
            "Trainable params: 2,506,378\n",
            "Non-trainable params: 0\n",
            "_________________________________________________________________\n",
            "<Figure size 1500x500 with 2 Axes>\n",
            "Model took 8145.57 seconds to train\n",
            "Accuracy on test data is: 77.93\n"
          ],
          "name": "stdout"
        }
      ]
    },
    {
      "cell_type": "code",
      "metadata": {
        "id": "R6g-pgx2R9ry",
        "colab_type": "code",
        "colab": {}
      },
      "source": [
        ""
      ],
      "execution_count": 0,
      "outputs": []
    },
    {
      "cell_type": "code",
      "metadata": {
        "id": "VozRolrUR-av",
        "colab_type": "code",
        "outputId": "f9f82bdf-1a16-494e-92f9-117d89b6aa40",
        "colab": {
          "base_uri": "https://localhost:8080/",
          "height": 122
        }
      },
      "source": [
        "from google.colab import drive\n",
        "drive.mount('/content/drive')"
      ],
      "execution_count": 7,
      "outputs": [
        {
          "output_type": "stream",
          "text": [
            "Go to this URL in a browser: https://accounts.google.com/o/oauth2/auth?client_id=947318989803-6bn6qk8qdgf4n4g3pfee6491hc0brc4i.apps.googleusercontent.com&redirect_uri=urn%3Aietf%3Awg%3Aoauth%3A2.0%3Aoob&scope=email%20https%3A%2F%2Fwww.googleapis.com%2Fauth%2Fdocs.test%20https%3A%2F%2Fwww.googleapis.com%2Fauth%2Fdrive%20https%3A%2F%2Fwww.googleapis.com%2Fauth%2Fdrive.photos.readonly%20https%3A%2F%2Fwww.googleapis.com%2Fauth%2Fpeopleapi.readonly&response_type=code\n",
            "\n",
            "Enter your authorization code:\n",
            "··········\n",
            "Mounted at /content/drive\n"
          ],
          "name": "stdout"
        }
      ]
    },
    {
      "cell_type": "code",
      "metadata": {
        "id": "ZiHEDZq-SVKR",
        "colab_type": "code",
        "colab": {}
      },
      "source": [
        "! cp -r  /content/saved_models   /content/drive/My\\ Drive/QuaternionCNN"
      ],
      "execution_count": 0,
      "outputs": []
    },
    {
      "cell_type": "code",
      "metadata": {
        "id": "9ubTLgzFSyeo",
        "colab_type": "code",
        "colab": {}
      },
      "source": [
        "! cp -r  /content/tmp   /content/drive/My\\ Drive/QuaternionCNN"
      ],
      "execution_count": 0,
      "outputs": []
    },
    {
      "cell_type": "code",
      "metadata": {
        "id": "f9QS4AbZS4FJ",
        "colab_type": "code",
        "colab": {}
      },
      "source": [
        "! cp -r  /content/QuaternionCNN_Keras   /content/drive/My\\ Drive/QuaternionCNN"
      ],
      "execution_count": 0,
      "outputs": []
    }
  ]
}