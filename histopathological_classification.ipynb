{
  "nbformat": 4,
  "nbformat_minor": 0,
  "metadata": {
    "colab": {
      "name": "histopathological classification.ipynb",
      "provenance": [],
      "include_colab_link": true
    },
    "kernelspec": {
      "name": "python3",
      "display_name": "Python 3"
    }
  },
  "cells": [
    {
      "cell_type": "markdown",
      "metadata": {
        "id": "view-in-github",
        "colab_type": "text"
      },
      "source": [
        "<a href=\"https://colab.research.google.com/github/singhsukhendra/ComputerAidedDiagnosis/blob/master/histopathological_classification.ipynb\" target=\"_parent\"><img src=\"https://colab.research.google.com/assets/colab-badge.svg\" alt=\"Open In Colab\"/></a>"
      ]
    },
    {
      "cell_type": "code",
      "metadata": {
        "id": "lqhrMO8LLXZK",
        "colab_type": "code",
        "colab": {}
      },
      "source": [
        "! mkdir cancernet"
      ],
      "execution_count": 0,
      "outputs": []
    },
    {
      "cell_type": "code",
      "metadata": {
        "id": "Pax-YMYlMdOn",
        "colab_type": "code",
        "colab": {
          "base_uri": "https://localhost:8080/",
          "height": 122
        },
        "outputId": "edf08506-2dde-43ac-d327-49de7cdfaf72"
      },
      "source": [
        "from google.colab import drive\n",
        "drive.mount('/content/drive')"
      ],
      "execution_count": 2,
      "outputs": [
        {
          "output_type": "stream",
          "text": [
            "Go to this URL in a browser: https://accounts.google.com/o/oauth2/auth?client_id=947318989803-6bn6qk8qdgf4n4g3pfee6491hc0brc4i.apps.googleusercontent.com&redirect_uri=urn%3Aietf%3Awg%3Aoauth%3A2.0%3Aoob&scope=email%20https%3A%2F%2Fwww.googleapis.com%2Fauth%2Fdocs.test%20https%3A%2F%2Fwww.googleapis.com%2Fauth%2Fdrive%20https%3A%2F%2Fwww.googleapis.com%2Fauth%2Fdrive.photos.readonly%20https%3A%2F%2Fwww.googleapis.com%2Fauth%2Fpeopleapi.readonly&response_type=code\n",
            "\n",
            "Enter your authorization code:\n",
            "··········\n",
            "Mounted at /content/drive\n"
          ],
          "name": "stdout"
        }
      ]
    },
    {
      "cell_type": "code",
      "metadata": {
        "id": "M6j3I24qM2O6",
        "colab_type": "code",
        "colab": {
          "base_uri": "https://localhost:8080/",
          "height": 221
        },
        "outputId": "82b6afbb-2d1d-406b-fada-2e9c1cd71af2"
      },
      "source": [
        "! python build_dataset.py"
      ],
      "execution_count": 3,
      "outputs": [
        {
          "output_type": "stream",
          "text": [
            "Building training set\n",
            "Building directory idc/idc/training\n",
            "Building directory idc/idc/training/0\n",
            "Building directory idc/idc/training/1\n",
            "Building validation set\n",
            "Building directory idc/idc/validation\n",
            "Building directory idc/idc/validation/1\n",
            "Building directory idc/idc/validation/0\n",
            "Building testing set\n",
            "Building directory idc/idc/testing\n",
            "Building directory idc/idc/testing/1\n",
            "Building directory idc/idc/testing/0\n"
          ],
          "name": "stdout"
        }
      ]
    },
    {
      "cell_type": "code",
      "metadata": {
        "id": "WLbQYLUJOiZT",
        "colab_type": "code",
        "colab": {
          "base_uri": "https://localhost:8080/",
          "height": 1000
        },
        "outputId": "5d584eab-f379-4745-f53b-01c46b01ad1f"
      },
      "source": [
        "! python train_model.py"
      ],
      "execution_count": 4,
      "outputs": [
        {
          "output_type": "stream",
          "text": [
            "Using TensorFlow backend.\n",
            "Found 518 images belonging to 2 classes.\n",
            "Found 57 images belonging to 2 classes.\n",
            "Found 144 images belonging to 2 classes.\n",
            "WARNING:tensorflow:From /usr/local/lib/python3.6/dist-packages/keras/backend/tensorflow_backend.py:66: The name tf.get_default_graph is deprecated. Please use tf.compat.v1.get_default_graph instead.\n",
            "\n",
            "WARNING:tensorflow:From /usr/local/lib/python3.6/dist-packages/keras/backend/tensorflow_backend.py:541: The name tf.placeholder is deprecated. Please use tf.compat.v1.placeholder instead.\n",
            "\n",
            "WARNING:tensorflow:From /usr/local/lib/python3.6/dist-packages/keras/backend/tensorflow_backend.py:4432: The name tf.random_uniform is deprecated. Please use tf.random.uniform instead.\n",
            "\n",
            "WARNING:tensorflow:From /usr/local/lib/python3.6/dist-packages/keras/backend/tensorflow_backend.py:190: The name tf.get_default_session is deprecated. Please use tf.compat.v1.get_default_session instead.\n",
            "\n",
            "WARNING:tensorflow:From /usr/local/lib/python3.6/dist-packages/keras/backend/tensorflow_backend.py:197: The name tf.ConfigProto is deprecated. Please use tf.compat.v1.ConfigProto instead.\n",
            "\n",
            "2019-09-21 14:31:49.228597: I tensorflow/core/platform/profile_utils/cpu_utils.cc:94] CPU Frequency: 2300000000 Hz\n",
            "2019-09-21 14:31:49.228956: I tensorflow/compiler/xla/service/service.cc:168] XLA service 0x184ea00 executing computations on platform Host. Devices:\n",
            "2019-09-21 14:31:49.228998: I tensorflow/compiler/xla/service/service.cc:175]   StreamExecutor device (0): <undefined>, <undefined>\n",
            "2019-09-21 14:31:49.458788: W tensorflow/compiler/jit/mark_for_compilation_pass.cc:1412] (One-time warning): Not using XLA:CPU for cluster because envvar TF_XLA_FLAGS=--tf_xla_cpu_global_jit was not set.  If you want XLA:CPU, either set that envvar, or use experimental_jit_scope to enable XLA:CPU.  To confirm that XLA is active, pass --vmodule=xla_compilation_cache=1 (as a proper command-line flag, not via TF_XLA_FLAGS) or set the envvar XLA_FLAGS=--xla_hlo_profile.\n",
            "WARNING:tensorflow:From /usr/local/lib/python3.6/dist-packages/keras/backend/tensorflow_backend.py:2041: The name tf.nn.fused_batch_norm is deprecated. Please use tf.compat.v1.nn.fused_batch_norm instead.\n",
            "\n",
            "WARNING:tensorflow:From /usr/local/lib/python3.6/dist-packages/keras/backend/tensorflow_backend.py:4267: The name tf.nn.max_pool is deprecated. Please use tf.nn.max_pool2d instead.\n",
            "\n",
            "WARNING:tensorflow:From /usr/local/lib/python3.6/dist-packages/keras/backend/tensorflow_backend.py:3733: calling dropout (from tensorflow.python.ops.nn_ops) with keep_prob is deprecated and will be removed in a future version.\n",
            "Instructions for updating:\n",
            "Please use `rate` instead of `keep_prob`. Rate should be set to `rate = 1 - keep_prob`.\n",
            "WARNING:tensorflow:From /usr/local/lib/python3.6/dist-packages/keras/optimizers.py:793: The name tf.train.Optimizer is deprecated. Please use tf.compat.v1.train.Optimizer instead.\n",
            "\n",
            "WARNING:tensorflow:From /usr/local/lib/python3.6/dist-packages/tensorflow/python/ops/nn_impl.py:180: add_dispatch_support.<locals>.wrapper (from tensorflow.python.ops.array_ops) is deprecated and will be removed in a future version.\n",
            "Instructions for updating:\n",
            "Use tf.where in 2.0, which has the same broadcast rule as np.where\n",
            "Epoch 1/50\n",
            "16/16 [==============================] - 8s 521ms/step - loss: 0.9054 - acc: 0.7845 - val_loss: 0.2538 - val_acc: 1.0000\n",
            "Epoch 2/50\n",
            "16/16 [==============================] - 6s 394ms/step - loss: 0.3568 - acc: 0.8666 - val_loss: 1.7997 - val_acc: 0.3200\n",
            "Epoch 3/50\n",
            "16/16 [==============================] - 6s 374ms/step - loss: 0.2686 - acc: 0.8942 - val_loss: 0.0174 - val_acc: 1.0000\n",
            "Epoch 4/50\n",
            "16/16 [==============================] - 6s 391ms/step - loss: 0.2602 - acc: 0.9043 - val_loss: 1.5672 - val_acc: 0.4800\n",
            "Epoch 5/50\n",
            "16/16 [==============================] - 6s 358ms/step - loss: 0.2212 - acc: 0.9193 - val_loss: 0.0955 - val_acc: 1.0000\n",
            "Epoch 6/50\n",
            "16/16 [==============================] - 6s 395ms/step - loss: 0.2516 - acc: 0.9160 - val_loss: 3.3360 - val_acc: 0.2000\n",
            "Epoch 7/50\n",
            "16/16 [==============================] - 6s 361ms/step - loss: 0.2004 - acc: 0.9231 - val_loss: 0.0213 - val_acc: 1.0000\n",
            "Epoch 8/50\n",
            "16/16 [==============================] - 6s 389ms/step - loss: 0.2164 - acc: 0.9238 - val_loss: 0.6272 - val_acc: 0.9200\n",
            "Epoch 9/50\n",
            "16/16 [==============================] - 6s 361ms/step - loss: 0.2669 - acc: 0.9073 - val_loss: 6.4706e-04 - val_acc: 1.0000\n",
            "Epoch 10/50\n",
            "16/16 [==============================] - 6s 393ms/step - loss: 0.1820 - acc: 0.9492 - val_loss: 0.4672 - val_acc: 0.8800\n",
            "Epoch 11/50\n",
            "16/16 [==============================] - 6s 371ms/step - loss: 0.2040 - acc: 0.9155 - val_loss: 0.0153 - val_acc: 1.0000\n",
            "Epoch 12/50\n",
            "16/16 [==============================] - 6s 376ms/step - loss: 0.1698 - acc: 0.9412 - val_loss: 0.3674 - val_acc: 0.8800\n",
            "Epoch 13/50\n",
            "16/16 [==============================] - 6s 356ms/step - loss: 0.1726 - acc: 0.9449 - val_loss: 0.0618 - val_acc: 1.0000\n",
            "Epoch 14/50\n",
            "16/16 [==============================] - 6s 393ms/step - loss: 0.1606 - acc: 0.9512 - val_loss: 0.8206 - val_acc: 0.8800\n",
            "Epoch 15/50\n",
            "16/16 [==============================] - 6s 376ms/step - loss: 0.1432 - acc: 0.9530 - val_loss: 0.0209 - val_acc: 1.0000\n",
            "Epoch 16/50\n",
            "16/16 [==============================] - 6s 369ms/step - loss: 0.1546 - acc: 0.9432 - val_loss: 0.1607 - val_acc: 0.8800\n",
            "Epoch 17/50\n",
            "16/16 [==============================] - 6s 372ms/step - loss: 0.1493 - acc: 0.9569 - val_loss: 0.1153 - val_acc: 0.9375\n",
            "Epoch 18/50\n",
            "16/16 [==============================] - 6s 353ms/step - loss: 0.2207 - acc: 0.9314 - val_loss: 0.3410 - val_acc: 0.9600\n",
            "Epoch 19/50\n",
            "16/16 [==============================] - 6s 389ms/step - loss: 0.2556 - acc: 0.9175 - val_loss: 3.8399e-04 - val_acc: 1.0000\n",
            "Epoch 20/50\n",
            "16/16 [==============================] - 6s 376ms/step - loss: 0.1681 - acc: 0.9351 - val_loss: 0.4855 - val_acc: 0.8800\n",
            "Epoch 21/50\n",
            "16/16 [==============================] - 6s 390ms/step - loss: 0.1204 - acc: 0.9551 - val_loss: 0.0151 - val_acc: 1.0000\n",
            "Epoch 22/50\n",
            "16/16 [==============================] - 6s 365ms/step - loss: 0.1308 - acc: 0.9646 - val_loss: 2.0493 - val_acc: 0.6800\n",
            "Epoch 23/50\n",
            "16/16 [==============================] - 6s 394ms/step - loss: 0.1910 - acc: 0.9297 - val_loss: 0.1373 - val_acc: 0.9688\n",
            "Epoch 24/50\n",
            "16/16 [==============================] - 6s 355ms/step - loss: 0.1233 - acc: 0.9685 - val_loss: 0.1681 - val_acc: 0.9600\n",
            "Epoch 25/50\n",
            "16/16 [==============================] - 6s 375ms/step - loss: 0.2939 - acc: 0.9290 - val_loss: 0.0280 - val_acc: 1.0000\n",
            "Epoch 26/50\n",
            "16/16 [==============================] - 6s 389ms/step - loss: 0.1245 - acc: 0.9512 - val_loss: 0.2323 - val_acc: 0.9600\n",
            "Epoch 27/50\n",
            "16/16 [==============================] - 6s 376ms/step - loss: 0.2019 - acc: 0.9155 - val_loss: 0.3414 - val_acc: 0.8125\n",
            "Epoch 28/50\n",
            "16/16 [==============================] - 6s 377ms/step - loss: 0.2144 - acc: 0.9291 - val_loss: 0.0779 - val_acc: 0.9600\n",
            "Epoch 29/50\n",
            "16/16 [==============================] - 6s 366ms/step - loss: 0.1265 - acc: 0.9527 - val_loss: 0.8970 - val_acc: 0.5312\n",
            "Epoch 30/50\n",
            "16/16 [==============================] - 6s 394ms/step - loss: 0.1536 - acc: 0.9492 - val_loss: 0.1319 - val_acc: 0.9600\n",
            "Epoch 31/50\n",
            "16/16 [==============================] - 6s 374ms/step - loss: 0.1052 - acc: 0.9628 - val_loss: 0.2458 - val_acc: 0.9062\n",
            "Epoch 32/50\n",
            "16/16 [==============================] - 6s 375ms/step - loss: 0.1911 - acc: 0.9528 - val_loss: 0.0625 - val_acc: 0.9600\n",
            "Epoch 33/50\n",
            "16/16 [==============================] - 6s 371ms/step - loss: 0.1899 - acc: 0.9352 - val_loss: 0.0977 - val_acc: 0.9375\n",
            "Epoch 34/50\n",
            "16/16 [==============================] - 6s 370ms/step - loss: 0.1599 - acc: 0.9432 - val_loss: 0.1907 - val_acc: 0.9600\n",
            "Epoch 35/50\n",
            "16/16 [==============================] - 6s 359ms/step - loss: 0.1424 - acc: 0.9569 - val_loss: 0.1466 - val_acc: 0.9375\n",
            "Epoch 36/50\n",
            "16/16 [==============================] - 6s 371ms/step - loss: 0.0942 - acc: 0.9628 - val_loss: 0.0657 - val_acc: 0.9600\n",
            "Epoch 37/50\n",
            "16/16 [==============================] - 6s 374ms/step - loss: 0.1548 - acc: 0.9470 - val_loss: 0.3519 - val_acc: 0.8750\n",
            "Epoch 38/50\n",
            "16/16 [==============================] - 6s 373ms/step - loss: 0.1162 - acc: 0.9628 - val_loss: 0.0419 - val_acc: 1.0000\n",
            "Epoch 39/50\n",
            "16/16 [==============================] - 6s 374ms/step - loss: 0.1482 - acc: 0.9569 - val_loss: 0.8399 - val_acc: 0.6250\n",
            "Epoch 40/50\n",
            "16/16 [==============================] - 6s 383ms/step - loss: 0.1240 - acc: 0.9589 - val_loss: 0.0436 - val_acc: 1.0000\n",
            "Epoch 41/50\n",
            "16/16 [==============================] - 6s 373ms/step - loss: 0.0989 - acc: 0.9647 - val_loss: 0.7196 - val_acc: 0.6875\n",
            "Epoch 42/50\n",
            "16/16 [==============================] - 6s 372ms/step - loss: 0.1305 - acc: 0.9491 - val_loss: 0.0458 - val_acc: 1.0000\n",
            "Epoch 43/50\n",
            "16/16 [==============================] - 6s 390ms/step - loss: 0.1089 - acc: 0.9668 - val_loss: 0.0406 - val_acc: 1.0000\n",
            "Epoch 44/50\n",
            "16/16 [==============================] - 6s 374ms/step - loss: 0.1447 - acc: 0.9389 - val_loss: 0.0361 - val_acc: 1.0000\n",
            "Epoch 45/50\n",
            "16/16 [==============================] - 6s 377ms/step - loss: 0.1063 - acc: 0.9647 - val_loss: 0.0664 - val_acc: 0.9688\n",
            "Epoch 46/50\n",
            "16/16 [==============================] - 6s 353ms/step - loss: 0.1650 - acc: 0.9566 - val_loss: 0.0157 - val_acc: 1.0000\n",
            "Epoch 47/50\n",
            "16/16 [==============================] - 6s 374ms/step - loss: 0.1180 - acc: 0.9587 - val_loss: 0.0695 - val_acc: 1.0000\n",
            "Epoch 48/50\n",
            "16/16 [==============================] - 6s 369ms/step - loss: 0.1058 - acc: 0.9647 - val_loss: 0.0270 - val_acc: 1.0000\n",
            "Epoch 49/50\n",
            "16/16 [==============================] - 6s 395ms/step - loss: 0.0856 - acc: 0.9707 - val_loss: 0.0869 - val_acc: 0.9688\n",
            "Epoch 50/50\n",
            "16/16 [==============================] - 6s 376ms/step - loss: 0.0991 - acc: 0.9647 - val_loss: 1.5415 - val_acc: 0.8800\n",
            "Now evaluating the model\n",
            "              precision    recall  f1-score   support\n",
            "\n",
            "           0       1.00      0.03      0.06        99\n",
            "           1       0.32      1.00      0.48        45\n",
            "\n",
            "    accuracy                           0.33       144\n",
            "   macro avg       0.66      0.52      0.27       144\n",
            "weighted avg       0.79      0.33      0.19       144\n",
            "\n",
            "[[ 3 96]\n",
            " [ 0 45]]\n",
            "Accuracy: 0.3333333333333333\n",
            "Specificity: 1.0\n",
            "Sensitivity: 0.030303030303030304\n"
          ],
          "name": "stdout"
        }
      ]
    }
  ]
}